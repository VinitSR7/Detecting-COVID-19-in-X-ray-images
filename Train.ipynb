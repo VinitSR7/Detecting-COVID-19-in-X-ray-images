{
 "cells": [
  {
   "cell_type": "markdown",
   "metadata": {},
   "source": [
    "## Import Libraries"
   ]
  },
  {
   "cell_type": "code",
   "execution_count": 1,
   "metadata": {},
   "outputs": [
    {
     "name": "stderr",
     "output_type": "stream",
     "text": [
      "Using TensorFlow backend.\n"
     ]
    }
   ],
   "source": [
    "import os\n",
    "import cv2\n",
    "import numpy as np\n",
    "import matplotlib.pyplot as plt\n",
    "from imutils import paths\n",
    "from sklearn.metrics import classification_report, confusion_matrix\n",
    "from sklearn.model_selection import train_test_split\n",
    "\n",
    "from keras.layers import *\n",
    "from keras.applications.vgg16 import VGG16\n",
    "from keras.applications.vgg16 import preprocess_input\n",
    "from keras import optimizers\n",
    "from keras.models import Model\n",
    "from keras.preprocessing.image import ImageDataGenerator\n",
    "\n",
    "from keras.utils import to_categorical"
   ]
  },
  {
   "cell_type": "markdown",
   "metadata": {},
   "source": [
    "## Load Dataset"
   ]
  },
  {
   "cell_type": "code",
   "execution_count": 2,
   "metadata": {},
   "outputs": [],
   "source": [
    "covid_img_path = os.listdir('dataset/covid/')\n",
    "normal_img_path = os.listdir('dataset/normal/')"
   ]
  },
  {
   "cell_type": "code",
   "execution_count": 3,
   "metadata": {},
   "outputs": [],
   "source": [
    "covid_img_path = ['dataset/covid/' + x for x in covid_img_path]\n",
    "normal_img_path = ['dataset/normal/' + x for x in normal_img_path]"
   ]
  },
  {
   "cell_type": "code",
   "execution_count": 4,
   "metadata": {},
   "outputs": [],
   "source": [
    "data = []\n",
    "labels = []"
   ]
  },
  {
   "cell_type": "code",
   "execution_count": 5,
   "metadata": {},
   "outputs": [],
   "source": [
    "def read_image(image_path, label):  \n",
    " \n",
    "    for img in image_path:\n",
    "        #print(\"*\")\n",
    "        image = cv2.imread(img)\n",
    "        image = cv2.cvtColor(image, cv2.COLOR_BGR2RGB)\n",
    "        image = cv2.resize(image, (224, 224))\n",
    "\n",
    "        data.append(image)\n",
    "        labels.append(label)"
   ]
  },
  {
   "cell_type": "code",
   "execution_count": 6,
   "metadata": {},
   "outputs": [],
   "source": [
    "read_image(covid_img_path, 1)\n",
    "read_image(normal_img_path, 0)"
   ]
  },
  {
   "cell_type": "markdown",
   "metadata": {},
   "source": [
    "### Normalize the data"
   ]
  },
  {
   "cell_type": "code",
   "execution_count": 7,
   "metadata": {},
   "outputs": [],
   "source": [
    "data = np.array(data) / 255.0"
   ]
  },
  {
   "cell_type": "markdown",
   "metadata": {},
   "source": [
    "### Convert labels into one-hot encoded vector"
   ]
  },
  {
   "cell_type": "code",
   "execution_count": 8,
   "metadata": {},
   "outputs": [],
   "source": [
    "labels = to_categorical(labels, num_classes=None, dtype='float32')\n",
    "labels = np.array(labels)"
   ]
  },
  {
   "cell_type": "markdown",
   "metadata": {},
   "source": [
    "### Split the data intro train, test"
   ]
  },
  {
   "cell_type": "code",
   "execution_count": 9,
   "metadata": {},
   "outputs": [],
   "source": [
    "X_train, X_test, Y_train, Y_test = train_test_split(data, labels, test_size=0.20, stratify=labels, random_state=42)"
   ]
  },
  {
   "cell_type": "markdown",
   "metadata": {},
   "source": [
    "### Initialize the training data augmentation object"
   ]
  },
  {
   "cell_type": "code",
   "execution_count": 10,
   "metadata": {},
   "outputs": [],
   "source": [
    "trainAug = ImageDataGenerator(\n",
    "    rotation_range=15,\n",
    "    fill_mode=\"nearest\")"
   ]
  },
  {
   "cell_type": "markdown",
   "metadata": {},
   "source": [
    "### Load the VGG16 network, with include_top = False"
   ]
  },
  {
   "cell_type": "code",
   "execution_count": 11,
   "metadata": {},
   "outputs": [],
   "source": [
    "baseModel = VGG16(weights=\"imagenet\", include_top=False, input_tensor=Input(shape=(224, 224, 3)))"
   ]
  },
  {
   "cell_type": "code",
   "execution_count": 12,
   "metadata": {},
   "outputs": [],
   "source": [
    "for layer in baseModel.layers:\n",
    "    layer.trainable = False"
   ]
  },
  {
   "cell_type": "markdown",
   "metadata": {},
   "source": [
    "### Create to top architecture"
   ]
  },
  {
   "cell_type": "code",
   "execution_count": 13,
   "metadata": {},
   "outputs": [],
   "source": [
    "headModel = baseModel.output\n",
    "headModel = AveragePooling2D(pool_size=(4, 4))(headModel)\n",
    "headModel = Flatten(name=\"flatten\")(headModel)\n",
    "headModel = Dense(64, activation=\"relu\")(headModel)\n",
    "headModel = Dropout(0.5)(headModel)\n",
    "headModel = Dense(2, activation=\"softmax\")(headModel)"
   ]
  },
  {
   "cell_type": "markdown",
   "metadata": {},
   "source": [
    "### Combine base model and head model"
   ]
  },
  {
   "cell_type": "code",
   "execution_count": 14,
   "metadata": {},
   "outputs": [],
   "source": [
    "model = Model(inputs=baseModel.input, outputs=headModel)"
   ]
  },
  {
   "cell_type": "code",
   "execution_count": 29,
   "metadata": {},
   "outputs": [
    {
     "name": "stdout",
     "output_type": "stream",
     "text": [
      "Model: \"model_5\"\n",
      "_________________________________________________________________\n",
      "Layer (type)                 Output Shape              Param #   \n",
      "=================================================================\n",
      "input_5 (InputLayer)         (None, 224, 224, 3)       0         \n",
      "_________________________________________________________________\n",
      "block1_conv1 (Conv2D)        (None, 224, 224, 64)      1792      \n",
      "_________________________________________________________________\n",
      "block1_conv2 (Conv2D)        (None, 224, 224, 64)      36928     \n",
      "_________________________________________________________________\n",
      "block1_pool (MaxPooling2D)   (None, 112, 112, 64)      0         \n",
      "_________________________________________________________________\n",
      "block2_conv1 (Conv2D)        (None, 112, 112, 128)     73856     \n",
      "_________________________________________________________________\n",
      "block2_conv2 (Conv2D)        (None, 112, 112, 128)     147584    \n",
      "_________________________________________________________________\n",
      "block2_pool (MaxPooling2D)   (None, 56, 56, 128)       0         \n",
      "_________________________________________________________________\n",
      "block3_conv1 (Conv2D)        (None, 56, 56, 256)       295168    \n",
      "_________________________________________________________________\n",
      "block3_conv2 (Conv2D)        (None, 56, 56, 256)       590080    \n",
      "_________________________________________________________________\n",
      "block3_conv3 (Conv2D)        (None, 56, 56, 256)       590080    \n",
      "_________________________________________________________________\n",
      "block3_pool (MaxPooling2D)   (None, 28, 28, 256)       0         \n",
      "_________________________________________________________________\n",
      "block4_conv1 (Conv2D)        (None, 28, 28, 512)       1180160   \n",
      "_________________________________________________________________\n",
      "block4_conv2 (Conv2D)        (None, 28, 28, 512)       2359808   \n",
      "_________________________________________________________________\n",
      "block4_conv3 (Conv2D)        (None, 28, 28, 512)       2359808   \n",
      "_________________________________________________________________\n",
      "block4_pool (MaxPooling2D)   (None, 14, 14, 512)       0         \n",
      "_________________________________________________________________\n",
      "block5_conv1 (Conv2D)        (None, 14, 14, 512)       2359808   \n",
      "_________________________________________________________________\n",
      "block5_conv2 (Conv2D)        (None, 14, 14, 512)       2359808   \n",
      "_________________________________________________________________\n",
      "block5_conv3 (Conv2D)        (None, 14, 14, 512)       2359808   \n",
      "_________________________________________________________________\n",
      "block5_pool (MaxPooling2D)   (None, 7, 7, 512)         0         \n",
      "_________________________________________________________________\n",
      "average_pooling2d_3 (Average (None, 1, 1, 512)         0         \n",
      "_________________________________________________________________\n",
      "flatten (Flatten)            (None, 512)               0         \n",
      "_________________________________________________________________\n",
      "dense_5 (Dense)              (None, 64)                32832     \n",
      "_________________________________________________________________\n",
      "dropout_3 (Dropout)          (None, 64)                0         \n",
      "_________________________________________________________________\n",
      "dense_6 (Dense)              (None, 2)                 130       \n",
      "=================================================================\n",
      "Total params: 14,747,650\n",
      "Trainable params: 32,962\n",
      "Non-trainable params: 14,714,688\n",
      "_________________________________________________________________\n"
     ]
    }
   ],
   "source": [
    "model.summary()"
   ]
  },
  {
   "cell_type": "markdown",
   "metadata": {},
   "source": [
    "### Compile our model"
   ]
  },
  {
   "cell_type": "code",
   "execution_count": null,
   "metadata": {},
   "outputs": [],
   "source": [
    "lr = 1e-3\n",
    "epoch = 25\n",
    "batch_size = 8"
   ]
  },
  {
   "cell_type": "code",
   "execution_count": 31,
   "metadata": {},
   "outputs": [],
   "source": [
    "opt = optimizers.Adam(lr=lr, decay=lr / epoch)\n",
    "model.compile(loss=\"binary_crossentropy\", optimizer=opt,\n",
    "    metrics=[\"accuracy\"])"
   ]
  },
  {
   "cell_type": "markdown",
   "metadata": {},
   "source": [
    "### Train the head of the network"
   ]
  },
  {
   "cell_type": "code",
   "execution_count": 47,
   "metadata": {},
   "outputs": [
    {
     "name": "stdout",
     "output_type": "stream",
     "text": [
      "Epoch 1/25\n",
      "5/5 [==============================] - 15s 3s/step - loss: 3.8677 - accuracy: 0.4500 - val_loss: 2.0385 - val_accuracy: 0.5000\n",
      "Epoch 2/25\n",
      "5/5 [==============================] - 13s 3s/step - loss: 2.3067 - accuracy: 0.5750 - val_loss: 1.1189 - val_accuracy: 0.8000\n",
      "Epoch 3/25\n",
      "5/5 [==============================] - 14s 3s/step - loss: 0.9827 - accuracy: 0.7750 - val_loss: 0.5096 - val_accuracy: 0.8000\n",
      "Epoch 4/25\n",
      "5/5 [==============================] - 15s 3s/step - loss: 0.7846 - accuracy: 0.8500 - val_loss: 0.7950 - val_accuracy: 0.7000\n",
      "Epoch 5/25\n",
      "5/5 [==============================] - 15s 3s/step - loss: 0.9681 - accuracy: 0.7500 - val_loss: 0.6731 - val_accuracy: 0.8000\n",
      "Epoch 6/25\n",
      "5/5 [==============================] - 14s 3s/step - loss: 0.6990 - accuracy: 0.9000 - val_loss: 0.1338 - val_accuracy: 0.9000\n",
      "Epoch 7/25\n",
      "5/5 [==============================] - 14s 3s/step - loss: 0.5085 - accuracy: 0.8500 - val_loss: 0.0304 - val_accuracy: 1.0000\n",
      "Epoch 8/25\n",
      "5/5 [==============================] - 14s 3s/step - loss: 0.5780 - accuracy: 0.8750 - val_loss: 0.0459 - val_accuracy: 1.0000\n",
      "Epoch 9/25\n",
      "5/5 [==============================] - 15s 3s/step - loss: 0.5640 - accuracy: 0.7750 - val_loss: 0.0777 - val_accuracy: 1.0000\n",
      "Epoch 10/25\n",
      "5/5 [==============================] - 16s 3s/step - loss: 0.6572 - accuracy: 0.8250 - val_loss: 0.1520 - val_accuracy: 0.8000\n",
      "Epoch 11/25\n",
      "5/5 [==============================] - 14s 3s/step - loss: 0.8070 - accuracy: 0.8000 - val_loss: 0.1893 - val_accuracy: 0.9000\n",
      "Epoch 12/25\n",
      "5/5 [==============================] - 14s 3s/step - loss: 0.1848 - accuracy: 0.9250 - val_loss: 0.1977 - val_accuracy: 0.9000\n",
      "Epoch 13/25\n",
      "5/5 [==============================] - 15s 3s/step - loss: 0.4677 - accuracy: 0.8750 - val_loss: 0.1601 - val_accuracy: 0.9000\n",
      "Epoch 14/25\n",
      "5/5 [==============================] - 15s 3s/step - loss: 0.2879 - accuracy: 0.9250 - val_loss: 0.1281 - val_accuracy: 0.9000\n",
      "Epoch 15/25\n",
      "5/5 [==============================] - 15s 3s/step - loss: 0.2245 - accuracy: 0.8750 - val_loss: 0.1115 - val_accuracy: 1.0000\n",
      "Epoch 16/25\n",
      "5/5 [==============================] - 15s 3s/step - loss: 0.1907 - accuracy: 0.9500 - val_loss: 0.1257 - val_accuracy: 0.9000\n",
      "Epoch 17/25\n",
      "5/5 [==============================] - 14s 3s/step - loss: 0.1337 - accuracy: 0.9750 - val_loss: 0.1179 - val_accuracy: 1.0000\n",
      "Epoch 18/25\n",
      "5/5 [==============================] - 14s 3s/step - loss: 0.0340 - accuracy: 1.0000 - val_loss: 0.1108 - val_accuracy: 1.0000\n",
      "Epoch 19/25\n",
      "5/5 [==============================] - 14s 3s/step - loss: 0.0521 - accuracy: 0.9750 - val_loss: 0.1126 - val_accuracy: 1.0000\n",
      "Epoch 20/25\n",
      "5/5 [==============================] - 14s 3s/step - loss: 0.0224 - accuracy: 1.0000 - val_loss: 0.1331 - val_accuracy: 0.9000\n",
      "Epoch 21/25\n",
      "5/5 [==============================] - 14s 3s/step - loss: 0.0144 - accuracy: 1.0000 - val_loss: 0.1506 - val_accuracy: 0.9000\n",
      "Epoch 22/25\n",
      "5/5 [==============================] - 14s 3s/step - loss: 0.1253 - accuracy: 0.9250 - val_loss: 0.1493 - val_accuracy: 0.9000\n",
      "Epoch 23/25\n",
      "5/5 [==============================] - 15s 3s/step - loss: 0.1407 - accuracy: 0.9250 - val_loss: 0.1912 - val_accuracy: 0.9000\n",
      "Epoch 24/25\n",
      "5/5 [==============================] - 17s 3s/step - loss: 0.0822 - accuracy: 0.9500 - val_loss: 0.2013 - val_accuracy: 0.9000\n",
      "Epoch 25/25\n",
      "5/5 [==============================] - 17s 3s/step - loss: 0.1313 - accuracy: 0.9250 - val_loss: 0.1648 - val_accuracy: 0.9000\n"
     ]
    }
   ],
   "source": [
    "history = model.fit_generator(\n",
    "    trainAug.flow(X_train, Y_train, batch_size=batch_size),\n",
    "    steps_per_epoch=len(X_train) // batch_size,\n",
    "    validation_data=(X_test, Y_test),\n",
    "    validation_steps=len(X_test) // batch_size,\n",
    "    epochs=epoch)"
   ]
  },
  {
   "cell_type": "markdown",
   "metadata": {},
   "source": [
    "## Evaluation Of the Network"
   ]
  },
  {
   "cell_type": "markdown",
   "metadata": {},
   "source": [
    "### Make predictions"
   ]
  },
  {
   "cell_type": "code",
   "execution_count": 80,
   "metadata": {},
   "outputs": [],
   "source": [
    "pred = model.predict(X_test, batch_size=batch_size)\n",
    "pred = np.argmax(pred, axis=1)"
   ]
  },
  {
   "cell_type": "markdown",
   "metadata": {},
   "source": [
    "### Results"
   ]
  },
  {
   "cell_type": "code",
   "execution_count": 64,
   "metadata": {},
   "outputs": [
    {
     "name": "stdout",
     "output_type": "stream",
     "text": [
      "[[4 1]\n",
      " [0 5]]\n",
      "              precision    recall  f1-score   support\n",
      "\n",
      "      normal       1.00      0.80      0.89         5\n",
      "       covid       0.83      1.00      0.91         5\n",
      "\n",
      "    accuracy                           0.90        10\n",
      "   macro avg       0.92      0.90      0.90        10\n",
      "weighted avg       0.92      0.90      0.90        10\n",
      "\n"
     ]
    }
   ],
   "source": [
    "print(confusion_matrix(Y_test.argmax(axis=1), pred))\n",
    "print(classification_report(Y_test.argmax(axis=1), pred,target_names=['normal', 'covid']))"
   ]
  },
  {
   "cell_type": "markdown",
   "metadata": {},
   "source": [
    "## Plot the training loss and accuracy"
   ]
  },
  {
   "cell_type": "code",
   "execution_count": 68,
   "metadata": {},
   "outputs": [
    {
     "data": {
      "image/png": "[encoded data removed]",
      "text/plain": [
       "<Figure size 432x288 with 1 Axes>"
      ]
     },
     "metadata": {},
     "output_type": "display_data"
    }
   ],
   "source": [
    "plt.style.use(\"ggplot\")\n",
    "plt.figure()\n",
    "plt.plot(np.arange(0, epoch), history.history[\"loss\"], label=\"train_loss\")\n",
    "plt.plot(np.arange(0, epoch), history.history[\"val_loss\"], label=\"val_loss\")\n",
    "plt.plot(np.arange(0, epoch), history.history[\"accuracy\"], label=\"train_acc\")\n",
    "plt.plot(np.arange(0, epoch), history.history[\"val_accuracy\"], label=\"val_acc\")\n",
    "plt.title(\"Training Loss and Accuracy on COVID-19 Dataset\")\n",
    "plt.xlabel(\"Epoch #\")\n",
    "plt.ylabel(\"Loss/Accuracy\")\n",
    "plt.legend(loc=\"upper right\")\n",
    "plt.savefig(\"plot\")"
   ]
  },
  {
   "cell_type": "markdown",
   "metadata": {},
   "source": [
    "### Save the model"
   ]
  },
  {
   "cell_type": "code",
   "execution_count": 15,
   "metadata": {},
   "outputs": [],
   "source": [
    "model.save(\"models/model.h5\")"
   ]
  }
 ],
 "metadata": {
  "kernelspec": {
   "display_name": "Python 3",
   "language": "python",
   "name": "python3"
  },
  "language_info": {
   "codemirror_mode": {
    "name": "ipython",
    "version": 3
   },
   "file_extension": ".py",
   "mimetype": "text/x-python",
   "name": "python",
   "nbconvert_exporter": "python",
   "pygments_lexer": "ipython3",
   "version": "3.7.4"
  }
 },
 "nbformat": 4,
 "nbformat_minor": 2
}
